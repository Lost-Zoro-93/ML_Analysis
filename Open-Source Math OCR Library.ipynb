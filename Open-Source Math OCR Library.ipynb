{
 "cells": [
  {
   "cell_type": "code",
   "execution_count": 6,
   "id": "6a179e10-eb30-4610-afbb-8d8433daabf4",
   "metadata": {},
   "outputs": [
    {
     "name": "stdout",
     "output_type": "stream",
     "text": [
      "Requirement already satisfied: pytesseract in c:\\users\\visha\\appdata\\local\\programs\\python\\python313\\lib\\site-packages (0.3.13)\n",
      "Requirement already satisfied: pillow in c:\\users\\visha\\appdata\\local\\programs\\python\\python313\\lib\\site-packages (11.3.0)\n",
      "Requirement already satisfied: opencv-python in c:\\users\\visha\\appdata\\local\\programs\\python\\python313\\lib\\site-packages (4.12.0.88)\n",
      "Requirement already satisfied: packaging>=21.3 in c:\\users\\visha\\appdata\\local\\programs\\python\\python313\\lib\\site-packages (from pytesseract) (25.0)\n",
      "Requirement already satisfied: numpy<2.3.0,>=2 in c:\\users\\visha\\appdata\\local\\programs\\python\\python313\\lib\\site-packages (from opencv-python) (2.2.6)\n"
     ]
    },
    {
     "name": "stderr",
     "output_type": "stream",
     "text": [
      "ERROR: Could not find a version that satisfies the requirement latexocr (from versions: none)\n",
      "ERROR: No matching distribution found for latexocr\n"
     ]
    }
   ],
   "source": [
    "!pip install pytesseract pillow opencv-python\n",
    "!pip install latexocr\n"
   ]
  },
  {
   "cell_type": "code",
   "execution_count": 4,
   "id": "e2f7e293-1cae-400e-8d23-98c5dd977ac9",
   "metadata": {},
   "outputs": [],
   "source": [
    "import pytesseract\n",
    "\n",
    "pytesseract.pytesseract.tesseract_cmd = r\"C:\\Program Files\\Tesseract-OCR\\tesseract.exe\"\n",
    "\n",
    "from PIL import Image, ImageDraw\n",
    "import numpy as np\n",
    "\n",
    "def detect_equation_boxes(image, symbol_threshold=0.4):\n",
    "    \"\"\"\n",
    "    Detect bounding boxes likely to be equations or math expressions.\n",
    "\n",
    "    Args:\n",
    "        image: PIL.Image\n",
    "        symbol_threshold: float, fraction of non-alpha characters to consider a word as math.\n",
    "\n",
    "    Returns:\n",
    "        List of bounding boxes: [(x1, y1, x2, y2)]\n",
    "    \"\"\"\n",
    "    d = pytesseract.image_to_data(image, output_type=pytesseract.Output.DICT)\n",
    "    boxes = []\n",
    "\n",
    "    for i in range(len(d['text'])):\n",
    "        word = d['text'][i].strip()\n",
    "        if not word:\n",
    "            continue\n",
    "\n",
    "        non_alpha = sum(not c.isalpha() for c in word)\n",
    "        frac_non_alpha = non_alpha / len(word)\n",
    "\n",
    "        if frac_non_alpha >= symbol_threshold:\n",
    "            x, y, w, h = d['left'][i], d['top'][i], d['width'][i], d['height'][i]\n",
    "            boxes.append((x, y, x + w, y + h))\n",
    "\n",
    "    # Optionally: merge nearby boxes\n",
    "    merged_boxes = merge_boxes(boxes, y_thresh=15)\n",
    "\n",
    "    return merged_boxes\n",
    "\n",
    "def merge_boxes(boxes, y_thresh=15):\n",
    "    \"\"\"\n",
    "    Simple merging of overlapping or nearby boxes into bigger regions.\n",
    "    \"\"\"\n",
    "    if not boxes:\n",
    "        return []\n",
    "\n",
    "    # Sort by y coordinate\n",
    "    boxes = sorted(boxes, key=lambda b: (b[1], b[0]))\n",
    "    merged = []\n",
    "    current = boxes[0]\n",
    "\n",
    "    for b in boxes[1:]:\n",
    "        # If vertical overlap or close\n",
    "        if b[1] <= current[3] + y_thresh:\n",
    "            current = (\n",
    "                min(current[0], b[0]),\n",
    "                min(current[1], b[1]),\n",
    "                max(current[2], b[2]),\n",
    "                max(current[3], b[3]),\n",
    "            )\n",
    "        else:\n",
    "            merged.append(current)\n",
    "            current = b\n",
    "    merged.append(current)\n",
    "\n",
    "    return merged\n",
    "\n",
    "def draw_boxes(image, boxes, color='red'):\n",
    "    \"\"\"\n",
    "    Draw bounding boxes for visualization.\n",
    "    \"\"\"\n",
    "    draw = ImageDraw.Draw(image)\n",
    "    for box in boxes:\n",
    "        draw.rectangle(box, outline=color, width=2)\n",
    "    return image\n"
   ]
  },
  {
   "cell_type": "code",
   "execution_count": 5,
   "id": "c62acb11-8690-4846-ad6a-a890a08f2ad6",
   "metadata": {},
   "outputs": [],
   "source": [
    "from pdf2image import convert_from_path\n",
    "\n",
    "# Convert PDF page to image\n",
    "pages = convert_from_path(r'C:\\Users\\visha\\Downloads\\Test_math_OCR.pdf', dpi=300)\n",
    "page_image = pages[0]\n",
    "\n",
    "# Detect equation boxes\n",
    "boxes = detect_equation_boxes(page_image)\n",
    "\n",
    "# Draw and show\n",
    "output_image = draw_boxes(page_image.copy(), boxes)\n",
    "output_image.show()\n"
   ]
  },
  {
   "cell_type": "code",
   "execution_count": null,
   "id": "54b89de0-9a09-4c00-875e-b6591ac1bc05",
   "metadata": {},
   "outputs": [],
   "source": []
  }
 ],
 "metadata": {
  "kernelspec": {
   "display_name": "Python 3 (ipykernel)",
   "language": "python",
   "name": "python3"
  },
  "language_info": {
   "codemirror_mode": {
    "name": "ipython",
    "version": 3
   },
   "file_extension": ".py",
   "mimetype": "text/x-python",
   "name": "python",
   "nbconvert_exporter": "python",
   "pygments_lexer": "ipython3",
   "version": "3.13.5"
  }
 },
 "nbformat": 4,
 "nbformat_minor": 5
}
