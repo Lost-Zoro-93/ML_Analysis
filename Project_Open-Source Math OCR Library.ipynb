{
 "cells": [
  {
   "cell_type": "code",
   "execution_count": 1,
   "id": "d2fb16e1-4688-4f5d-a481-d14f31b5d6fb",
   "metadata": {},
   "outputs": [
    {
     "name": "stdout",
     "output_type": "stream",
     "text": [
      "C:\\Users\\visha\\LaTeX-OCR\\venv\\Scripts\\python.exe\n"
     ]
    }
   ],
   "source": [
    "import sys\n",
    "print(sys.executable)\n"
   ]
  },
  {
   "cell_type": "code",
   "execution_count": 2,
   "id": "c34dc411-b33a-4fe5-8e84-7d724e158040",
   "metadata": {},
   "outputs": [
    {
     "name": "stdout",
     "output_type": "stream",
     "text": [
      "Requirement already satisfied: pytesseract in c:\\users\\visha\\latex-ocr\\venv\\lib\\site-packages (0.3.13)\n",
      "Requirement already satisfied: pillow in c:\\users\\visha\\latex-ocr\\venv\\lib\\site-packages (11.3.0)\n",
      "Requirement already satisfied: opencv-python in c:\\users\\visha\\latex-ocr\\venv\\lib\\site-packages (4.12.0.88)\n",
      "Requirement already satisfied: pdf2image in c:\\users\\visha\\latex-ocr\\venv\\lib\\site-packages (1.17.0)\n",
      "Requirement already satisfied: packaging>=21.3 in c:\\users\\visha\\latex-ocr\\venv\\lib\\site-packages (from pytesseract) (25.0)\n",
      "Requirement already satisfied: numpy<2.3.0,>=2 in c:\\users\\visha\\latex-ocr\\venv\\lib\\site-packages (from opencv-python) (2.2.6)\n",
      "Note: you may need to restart the kernel to use updated packages.\n"
     ]
    }
   ],
   "source": [
    "%pip install pytesseract pillow opencv-python pdf2image"
   ]
  },
  {
   "cell_type": "code",
   "execution_count": 3,
   "id": "5e8b0f8d-109f-4be0-8bd6-07162de21d3d",
   "metadata": {},
   "outputs": [
    {
     "name": "stderr",
     "output_type": "stream",
     "text": [
      "C:\\Users\\visha\\LaTeX-OCR\\venv\\Lib\\site-packages\\tqdm\\auto.py:21: TqdmWarning: IProgress not found. Please update jupyter and ipywidgets. See https://ipywidgets.readthedocs.io/en/stable/user_install.html\n",
      "  from .autonotebook import tqdm as notebook_tqdm\n",
      "C:\\Users\\visha\\LaTeX-OCR\\venv\\Lib\\site-packages\\albumentations\\__init__.py:24: UserWarning: A new version of Albumentations is available: 2.0.8 (you have 1.4.24). Upgrade using: pip install -U albumentations. To disable automatic update checks, set the environment variable NO_ALBUMENTATIONS_UPDATE to 1.\n",
      "  check_for_updates()\n",
      "C:\\Users\\visha\\LaTeX-OCR\\venv\\Lib\\site-packages\\pydantic\\_internal\\_serializers.py:44: UserWarning: Pydantic serializer warnings:\n",
      "  PydanticSerializationUnexpectedValue(Expected `dict[str, any]` - serialized value may not be as expected [input_value=UniformParams(noise_type=... 0.058823529411764705)]), input_type=UniformParams])\n",
      "  v = handler(item, index)\n",
      "C:\\Users\\visha\\LaTeX-OCR\\venv\\Lib\\site-packages\\pydantic\\main.py:463: UserWarning: Pydantic serializer warnings:\n",
      "  PydanticSerializationUnexpectedValue(Expected `dict[str, any]` - serialized value may not be as expected [input_value=UniformParams(noise_type=... 0.058823529411764705)]), input_type=UniformParams])\n",
      "  return self.__pydantic_serializer__.to_python(\n"
     ]
    },
    {
     "name": "stdout",
     "output_type": "stream",
     "text": [
      "✅ All imports successful!\n"
     ]
    }
   ],
   "source": [
    "# Core OCR imports\n",
    "import pytesseract\n",
    "from pix2tex.cli import LatexOCR\n",
    "from PIL import Image\n",
    "import cv2\n",
    "import numpy as np\n",
    "\n",
    "# For PDF conversion\n",
    "from pdf2image import convert_from_path\n",
    "\n",
    "print(\"✅ All imports successful!\")\n"
   ]
  },
  {
   "cell_type": "code",
   "execution_count": 5,
   "id": "224f400c-f1e4-4ab6-81a6-edfe34cdd710",
   "metadata": {
    "scrolled": true
   },
   "outputs": [
    {
     "name": "stdout",
     "output_type": "stream",
     "text": [
      "Collecting matplotlib\n",
      "  Downloading matplotlib-3.10.3-cp313-cp313-win_amd64.whl.metadata (11 kB)\n",
      "Collecting contourpy>=1.0.1 (from matplotlib)\n",
      "  Downloading contourpy-1.3.2-cp313-cp313-win_amd64.whl.metadata (5.5 kB)\n",
      "Collecting cycler>=0.10 (from matplotlib)\n",
      "  Downloading cycler-0.12.1-py3-none-any.whl.metadata (3.8 kB)\n",
      "Collecting fonttools>=4.22.0 (from matplotlib)\n",
      "  Downloading fonttools-4.58.5-cp313-cp313-win_amd64.whl.metadata (109 kB)\n",
      "Collecting kiwisolver>=1.3.1 (from matplotlib)\n",
      "  Downloading kiwisolver-1.4.8-cp313-cp313-win_amd64.whl.metadata (6.3 kB)\n",
      "Requirement already satisfied: numpy>=1.23 in c:\\users\\visha\\latex-ocr\\venv\\lib\\site-packages (from matplotlib) (2.2.6)\n",
      "Requirement already satisfied: packaging>=20.0 in c:\\users\\visha\\latex-ocr\\venv\\lib\\site-packages (from matplotlib) (25.0)\n",
      "Requirement already satisfied: pillow>=8 in c:\\users\\visha\\latex-ocr\\venv\\lib\\site-packages (from matplotlib) (11.3.0)\n",
      "Collecting pyparsing>=2.3.1 (from matplotlib)\n",
      "  Downloading pyparsing-3.2.3-py3-none-any.whl.metadata (5.0 kB)\n",
      "Requirement already satisfied: python-dateutil>=2.7 in c:\\users\\visha\\latex-ocr\\venv\\lib\\site-packages (from matplotlib) (2.9.0.post0)\n",
      "Requirement already satisfied: six>=1.5 in c:\\users\\visha\\latex-ocr\\venv\\lib\\site-packages (from python-dateutil>=2.7->matplotlib) (1.17.0)\n",
      "Downloading matplotlib-3.10.3-cp313-cp313-win_amd64.whl (8.1 MB)\n",
      "   ---------------------------------------- 0.0/8.1 MB ? eta -:--:--\n",
      "   ------- -------------------------------- 1.6/8.1 MB 9.1 MB/s eta 0:00:01\n",
      "   --------------- ------------------------ 3.1/8.1 MB 8.6 MB/s eta 0:00:01\n",
      "   ------------------------- -------------- 5.2/8.1 MB 9.3 MB/s eta 0:00:01\n",
      "   ------------------------------------ --- 7.3/8.1 MB 9.6 MB/s eta 0:00:01\n",
      "   ---------------------------------------- 8.1/8.1 MB 8.7 MB/s eta 0:00:00\n",
      "Downloading contourpy-1.3.2-cp313-cp313-win_amd64.whl (223 kB)\n",
      "Downloading cycler-0.12.1-py3-none-any.whl (8.3 kB)\n",
      "Downloading fonttools-4.58.5-cp313-cp313-win_amd64.whl (2.2 MB)\n",
      "   ---------------------------------------- 0.0/2.2 MB ? eta -:--:--\n",
      "   ----------------------- ---------------- 1.3/2.2 MB 6.2 MB/s eta 0:00:01\n",
      "   ---------------------------------------- 2.2/2.2 MB 5.1 MB/s eta 0:00:00\n",
      "Downloading kiwisolver-1.4.8-cp313-cp313-win_amd64.whl (71 kB)\n",
      "Downloading pyparsing-3.2.3-py3-none-any.whl (111 kB)\n",
      "Installing collected packages: pyparsing, kiwisolver, fonttools, cycler, contourpy, matplotlib\n",
      "\n",
      "   ---------------------------------------- 0/6 [pyparsing]\n",
      "   ------------- -------------------------- 2/6 [fonttools]\n",
      "   ------------- -------------------------- 2/6 [fonttools]\n",
      "   ------------- -------------------------- 2/6 [fonttools]\n",
      "   ------------- -------------------------- 2/6 [fonttools]\n",
      "   ------------- -------------------------- 2/6 [fonttools]\n",
      "   ------------- -------------------------- 2/6 [fonttools]\n",
      "   ------------- -------------------------- 2/6 [fonttools]\n",
      "   ------------- -------------------------- 2/6 [fonttools]\n",
      "   ------------- -------------------------- 2/6 [fonttools]\n",
      "   ------------- -------------------------- 2/6 [fonttools]\n",
      "   ------------- -------------------------- 2/6 [fonttools]\n",
      "   ------------- -------------------------- 2/6 [fonttools]\n",
      "   --------------------------------- ------ 5/6 [matplotlib]\n",
      "   --------------------------------- ------ 5/6 [matplotlib]\n",
      "   --------------------------------- ------ 5/6 [matplotlib]\n",
      "   --------------------------------- ------ 5/6 [matplotlib]\n",
      "   --------------------------------- ------ 5/6 [matplotlib]\n",
      "   --------------------------------- ------ 5/6 [matplotlib]\n",
      "   --------------------------------- ------ 5/6 [matplotlib]\n",
      "   --------------------------------- ------ 5/6 [matplotlib]\n",
      "   --------------------------------- ------ 5/6 [matplotlib]\n",
      "   --------------------------------- ------ 5/6 [matplotlib]\n",
      "   --------------------------------- ------ 5/6 [matplotlib]\n",
      "   --------------------------------- ------ 5/6 [matplotlib]\n",
      "   --------------------------------- ------ 5/6 [matplotlib]\n",
      "   --------------------------------- ------ 5/6 [matplotlib]\n",
      "   --------------------------------- ------ 5/6 [matplotlib]\n",
      "   --------------------------------- ------ 5/6 [matplotlib]\n",
      "   --------------------------------- ------ 5/6 [matplotlib]\n",
      "   --------------------------------- ------ 5/6 [matplotlib]\n",
      "   ---------------------------------------- 6/6 [matplotlib]\n",
      "\n",
      "Successfully installed contourpy-1.3.2 cycler-0.12.1 fonttools-4.58.5 kiwisolver-1.4.8 matplotlib-3.10.3 pyparsing-3.2.3\n",
      "Note: you may need to restart the kernel to use updated packages.\n"
     ]
    }
   ],
   "source": [
    "%pip install matplotlib"
   ]
  },
  {
   "cell_type": "code",
   "execution_count": 6,
   "id": "fe127ebe-9a6a-4aea-9aa2-7a150921a058",
   "metadata": {},
   "outputs": [
    {
     "data": {
      "image/png": "[encoded data removed]",
      "text/plain": [
       "<Figure size 640x480 with 1 Axes>"
      ]
     },
     "metadata": {},
     "output_type": "display_data"
    }
   ],
   "source": [
    "from PIL import Image\n",
    "import matplotlib.pyplot as plt\n",
    "\n",
    "# Load your test image\n",
    "image_path = r\"C:\\Users\\visha\\Downloads\\test.png\"  # Or replace with your own image filename\n",
    "img = Image.open(image_path)\n",
    "\n",
    "# Show the image\n",
    "plt.imshow(img)\n",
    "plt.axis(\"off\")\n",
    "plt.title(\"Input Image\")\n",
    "plt.show()\n"
   ]
  },
  {
   "cell_type": "code",
   "execution_count": 8,
   "id": "a9faadf2-86d9-4e8c-9f0d-e485f7706b86",
   "metadata": {},
   "outputs": [
    {
     "name": "stdout",
     "output_type": "stream",
     "text": [
      "Detected 4 possible math regions.\n"
     ]
    }
   ],
   "source": [
    "import pytesseract\n",
    "import numpy as np\n",
    "\n",
    "pytesseract.pytesseract.tesseract_cmd = r\"C:\\Program Files\\Tesseract-OCR\\tesseract.exe\"\n",
    "\n",
    "def detect_math_boxes_pytesseract(image, symbol_threshold=0.4):\n",
    "    \"\"\"\n",
    "    Heuristically detect bounding boxes likely to be equations or math expressions.\n",
    "\n",
    "    Args:\n",
    "        image: PIL.Image\n",
    "        symbol_threshold: Fraction of non-alpha chars to consider as math.\n",
    "\n",
    "    Returns:\n",
    "        List of (x1, y1, x2, y2) tuples\n",
    "    \"\"\"\n",
    "    # Convert to grayscale for Tesseract\n",
    "    gray = image.convert(\"L\")\n",
    "\n",
    "    # Tesseract data dict\n",
    "    data = pytesseract.image_to_data(gray, output_type=pytesseract.Output.DICT)\n",
    "    boxes = []\n",
    "\n",
    "    for i in range(len(data[\"text\"])):\n",
    "        word = data[\"text\"][i].strip()\n",
    "        if not word:\n",
    "            continue\n",
    "        non_alpha = sum(not c.isalpha() for c in word)\n",
    "        frac_non_alpha = non_alpha / len(word)\n",
    "        if frac_non_alpha >= symbol_threshold:\n",
    "            x, y, w, h = data[\"left\"][i], data[\"top\"][i], data[\"width\"][i], data[\"height\"][i]\n",
    "            boxes.append((x, y, x + w, y + h))\n",
    "    return boxes\n",
    "\n",
    "# Detect math boxes\n",
    "math_boxes = detect_math_boxes_pytesseract(img)\n",
    "print(f\"Detected {len(math_boxes)} possible math regions.\")\n"
   ]
  },
  {
   "cell_type": "code",
   "execution_count": 9,
   "id": "544f308d-0742-40b9-94f9-d57ab7527acf",
   "metadata": {},
   "outputs": [
    {
     "data": {
      "image/png": "[encoded data removed]",
      "text/plain": [
       "<Figure size 1000x1000 with 1 Axes>"
      ]
     },
     "metadata": {},
     "output_type": "display_data"
    }
   ],
   "source": [
    "import matplotlib.pyplot as plt\n",
    "\n",
    "def show_math_boxes(image, boxes):\n",
    "    \"\"\"\n",
    "    Draw detected math boxes on the image.\n",
    "    \"\"\"\n",
    "    fig, ax = plt.subplots(figsize=(10, 10))\n",
    "    ax.imshow(image)\n",
    "    for (x1, y1, x2, y2) in boxes:\n",
    "        rect = plt.Rectangle((x1, y1), x2 - x1, y2 - y1,\n",
    "                             edgecolor='red', facecolor='none', linewidth=2)\n",
    "        ax.add_patch(rect)\n",
    "    ax.set_title(\"Detected Math Regions\")\n",
    "    plt.axis(\"off\")\n",
    "    plt.show()\n",
    "\n",
    "# Show the boxes\n",
    "show_math_boxes(img, math_boxes)\n"
   ]
  },
  {
   "cell_type": "code",
   "execution_count": 10,
   "id": "60e24978-f25b-4931-be02-c17b49fd71b0",
   "metadata": {},
   "outputs": [
    {
     "name": "stdout",
     "output_type": "stream",
     "text": [
      "Recognized LaTeX code:\n",
      "x={\\cfrac{-b\\pm{\\sqrt{b^{2}-4a c\\ }}}{2a}}\n"
     ]
    }
   ],
   "source": [
    "from pix2tex.cli import LatexOCR\n",
    "\n",
    "ocr = LatexOCR()\n",
    "\n",
    "# Recognize LaTeX from the entire image\n",
    "latex_code = ocr(img)\n",
    "\n",
    "print(\"Recognized LaTeX code:\")\n",
    "print(latex_code)\n"
   ]
  },
  {
   "cell_type": "code",
   "execution_count": 11,
   "id": "47af86c2-1e63-4e0c-b237-3f0043dfc9dc",
   "metadata": {},
   "outputs": [
    {
     "name": "stdout",
     "output_type": "stream",
     "text": [
      "Detected 3 merged math regions.\n"
     ]
    }
   ],
   "source": [
    "def detect_and_merge_math_boxes(image, symbol_threshold=0.2, y_thresh=20, x_thresh=50):\n",
    "    \"\"\"\n",
    "    Detect and merge bounding boxes likely to be equations or math expressions.\n",
    "    \"\"\"\n",
    "    # Convert to grayscale\n",
    "    gray = image.convert(\"L\")\n",
    "\n",
    "    # Get word boxes from Tesseract\n",
    "    data = pytesseract.image_to_data(gray, output_type=pytesseract.Output.DICT)\n",
    "    raw_boxes = []\n",
    "\n",
    "    for i in range(len(data[\"text\"])):\n",
    "        word = data[\"text\"][i].strip()\n",
    "        if not word:\n",
    "            continue\n",
    "\n",
    "        non_alpha = sum(not c.isalpha() for c in word)\n",
    "        frac_non_alpha = non_alpha / len(word)\n",
    "        if frac_non_alpha >= symbol_threshold:\n",
    "            x, y, w, h = data[\"left\"][i], data[\"top\"][i], data[\"width\"][i], data[\"height\"][i]\n",
    "            raw_boxes.append([x, y, x + w, y + h])\n",
    "\n",
    "    # Merge overlapping or nearby boxes into bigger regions\n",
    "    merged_boxes = []\n",
    "    for box in sorted(raw_boxes, key=lambda b: (b[1], b[0])):\n",
    "        added = False\n",
    "        for m in merged_boxes:\n",
    "            if (\n",
    "                abs(box[1] - m[1]) <= y_thresh and\n",
    "                (box[0] <= m[2] + x_thresh and box[2] >= m[0] - x_thresh)\n",
    "            ):\n",
    "                # Merge this box into m\n",
    "                m[0] = min(m[0], box[0])\n",
    "                m[1] = min(m[1], box[1])\n",
    "                m[2] = max(m[2], box[2])\n",
    "                m[3] = max(m[3], box[3])\n",
    "                added = True\n",
    "                break\n",
    "        if not added:\n",
    "            merged_boxes.append(box)\n",
    "\n",
    "    return merged_boxes\n",
    "\n",
    "# Run the improved detection\n",
    "improved_math_boxes = detect_and_merge_math_boxes(img)\n",
    "\n",
    "print(f\"Detected {len(improved_math_boxes)} merged math regions.\")\n"
   ]
  },
  {
   "cell_type": "code",
   "execution_count": 12,
   "id": "42ee2526-28ad-4aba-a937-3f102f58ce3c",
   "metadata": {},
   "outputs": [
    {
     "data": {
      "image/png": "[encoded data removed]",
      "text/plain": [
       "<Figure size 1000x1000 with 1 Axes>"
      ]
     },
     "metadata": {},
     "output_type": "display_data"
    }
   ],
   "source": [
    "show_math_boxes(img, improved_math_boxes)"
   ]
  },
  {
   "cell_type": "code",
   "execution_count": 13,
   "id": "636d799a-d732-4e31-93c7-f4a3e2cf0e6f",
   "metadata": {},
   "outputs": [
    {
     "name": "stdout",
     "output_type": "stream",
     "text": [
      "\n",
      "Region 1 LaTeX:\n",
      "b^{2}-4a c\n",
      "\n",
      "Region 2 LaTeX:\n",
      "-\\partial\\Omega\n",
      "\n",
      "Region 3 LaTeX:\n",
      "{\\mathcal{D}}_{}^{}\n"
     ]
    }
   ],
   "source": [
    "from PIL import Image\n",
    "\n",
    "# Initialize Pix2Tex once\n",
    "ocr = LatexOCR()\n",
    "\n",
    "# For each detected region, crop and OCR\n",
    "for idx, (x1, y1, x2, y2) in enumerate(improved_math_boxes):\n",
    "    cropped = img.crop((x1, y1, x2, y2))\n",
    "    latex = ocr(cropped)\n",
    "    print(f\"\\nRegion {idx+1} LaTeX:\")\n",
    "    print(latex)\n"
   ]
  },
  {
   "cell_type": "code",
   "execution_count": 14,
   "id": "112f304a-38be-4bba-88c3-f5acb3737d09",
   "metadata": {},
   "outputs": [
    {
     "name": "stdout",
     "output_type": "stream",
     "text": [
      "Saved: C:\\Users\\visha\\Downloads\\integral_pages\\page_001.png\n",
      "Saved: C:\\Users\\visha\\Downloads\\integral_pages\\page_002.png\n",
      "Saved: C:\\Users\\visha\\Downloads\\integral_pages\\page_003.png\n",
      "Saved: C:\\Users\\visha\\Downloads\\integral_pages\\page_004.png\n",
      "Saved: C:\\Users\\visha\\Downloads\\integral_pages\\page_005.png\n",
      "Saved: C:\\Users\\visha\\Downloads\\integral_pages\\page_006.png\n",
      "Saved: C:\\Users\\visha\\Downloads\\integral_pages\\page_007.png\n",
      "Saved: C:\\Users\\visha\\Downloads\\integral_pages\\page_008.png\n",
      "Saved: C:\\Users\\visha\\Downloads\\integral_pages\\page_009.png\n",
      "Saved: C:\\Users\\visha\\Downloads\\integral_pages\\page_010.png\n",
      "Saved: C:\\Users\\visha\\Downloads\\integral_pages\\page_011.png\n",
      "Saved: C:\\Users\\visha\\Downloads\\integral_pages\\page_012.png\n",
      "Saved: C:\\Users\\visha\\Downloads\\integral_pages\\page_013.png\n",
      "Saved: C:\\Users\\visha\\Downloads\\integral_pages\\page_014.png\n",
      "Saved: C:\\Users\\visha\\Downloads\\integral_pages\\page_015.png\n",
      "Saved: C:\\Users\\visha\\Downloads\\integral_pages\\page_016.png\n",
      "Saved: C:\\Users\\visha\\Downloads\\integral_pages\\page_017.png\n",
      "Saved: C:\\Users\\visha\\Downloads\\integral_pages\\page_018.png\n",
      "Saved: C:\\Users\\visha\\Downloads\\integral_pages\\page_019.png\n",
      "Saved: C:\\Users\\visha\\Downloads\\integral_pages\\page_020.png\n",
      "Saved: C:\\Users\\visha\\Downloads\\integral_pages\\page_021.png\n",
      "Saved: C:\\Users\\visha\\Downloads\\integral_pages\\page_022.png\n",
      "Saved: C:\\Users\\visha\\Downloads\\integral_pages\\page_023.png\n",
      "Saved: C:\\Users\\visha\\Downloads\\integral_pages\\page_024.png\n",
      "Saved: C:\\Users\\visha\\Downloads\\integral_pages\\page_025.png\n",
      "Saved: C:\\Users\\visha\\Downloads\\integral_pages\\page_026.png\n",
      "Saved: C:\\Users\\visha\\Downloads\\integral_pages\\page_027.png\n",
      "Saved: C:\\Users\\visha\\Downloads\\integral_pages\\page_028.png\n",
      "Saved: C:\\Users\\visha\\Downloads\\integral_pages\\page_029.png\n",
      "Saved: C:\\Users\\visha\\Downloads\\integral_pages\\page_030.png\n",
      "Saved: C:\\Users\\visha\\Downloads\\integral_pages\\page_031.png\n",
      "Saved: C:\\Users\\visha\\Downloads\\integral_pages\\page_032.png\n",
      "Saved: C:\\Users\\visha\\Downloads\\integral_pages\\page_033.png\n",
      "Saved: C:\\Users\\visha\\Downloads\\integral_pages\\page_034.png\n",
      "Saved: C:\\Users\\visha\\Downloads\\integral_pages\\page_035.png\n",
      "Saved: C:\\Users\\visha\\Downloads\\integral_pages\\page_036.png\n",
      "Saved: C:\\Users\\visha\\Downloads\\integral_pages\\page_037.png\n",
      "Saved: C:\\Users\\visha\\Downloads\\integral_pages\\page_038.png\n",
      "Saved: C:\\Users\\visha\\Downloads\\integral_pages\\page_039.png\n",
      "Saved: C:\\Users\\visha\\Downloads\\integral_pages\\page_040.png\n",
      "Saved: C:\\Users\\visha\\Downloads\\integral_pages\\page_041.png\n",
      "Saved: C:\\Users\\visha\\Downloads\\integral_pages\\page_042.png\n",
      "Saved: C:\\Users\\visha\\Downloads\\integral_pages\\page_043.png\n",
      "Saved: C:\\Users\\visha\\Downloads\\integral_pages\\page_044.png\n",
      "Saved: C:\\Users\\visha\\Downloads\\integral_pages\\page_045.png\n",
      "Saved: C:\\Users\\visha\\Downloads\\integral_pages\\page_046.png\n",
      "Saved: C:\\Users\\visha\\Downloads\\integral_pages\\page_047.png\n",
      "Saved: C:\\Users\\visha\\Downloads\\integral_pages\\page_048.png\n",
      "Saved: C:\\Users\\visha\\Downloads\\integral_pages\\page_049.png\n",
      "Saved: C:\\Users\\visha\\Downloads\\integral_pages\\page_050.png\n",
      "Saved: C:\\Users\\visha\\Downloads\\integral_pages\\page_051.png\n",
      "Saved: C:\\Users\\visha\\Downloads\\integral_pages\\page_052.png\n",
      "Saved: C:\\Users\\visha\\Downloads\\integral_pages\\page_053.png\n",
      "Saved: C:\\Users\\visha\\Downloads\\integral_pages\\page_054.png\n",
      "Saved: C:\\Users\\visha\\Downloads\\integral_pages\\page_055.png\n",
      "Saved: C:\\Users\\visha\\Downloads\\integral_pages\\page_056.png\n",
      "Saved: C:\\Users\\visha\\Downloads\\integral_pages\\page_057.png\n",
      "Saved: C:\\Users\\visha\\Downloads\\integral_pages\\page_058.png\n",
      "Saved: C:\\Users\\visha\\Downloads\\integral_pages\\page_059.png\n",
      "Saved: C:\\Users\\visha\\Downloads\\integral_pages\\page_060.png\n",
      "Saved: C:\\Users\\visha\\Downloads\\integral_pages\\page_061.png\n",
      "Saved: C:\\Users\\visha\\Downloads\\integral_pages\\page_062.png\n",
      "Saved: C:\\Users\\visha\\Downloads\\integral_pages\\page_063.png\n",
      "Saved: C:\\Users\\visha\\Downloads\\integral_pages\\page_064.png\n",
      "Saved: C:\\Users\\visha\\Downloads\\integral_pages\\page_065.png\n",
      "Saved: C:\\Users\\visha\\Downloads\\integral_pages\\page_066.png\n",
      "Saved: C:\\Users\\visha\\Downloads\\integral_pages\\page_067.png\n",
      "✅ All pages converted.\n"
     ]
    }
   ],
   "source": [
    "from pdf2image import convert_from_path\n",
    "\n",
    "# Path to your PDF file\n",
    "pdf_path = r\"C:\\Users\\visha\\Downloads\\lemh201.pdf\"\n",
    "\n",
    "# Output folder\n",
    "output_dir = r\"C:\\Users\\visha\\Downloads\\integral_pages\"\n",
    "\n",
    "import os\n",
    "os.makedirs(output_dir, exist_ok=True)\n",
    "\n",
    "# Convert all pages (you can change 'first_page' and 'last_page' to limit)\n",
    "images = convert_from_path(pdf_path, dpi=300)\n",
    "\n",
    "# Save images\n",
    "for i, img in enumerate(images):\n",
    "    img_path = os.path.join(output_dir, f\"page_{i+1:03}.png\")\n",
    "    img.save(img_path)\n",
    "    print(f\"Saved: {img_path}\")\n",
    "\n",
    "print(\"✅ All pages converted.\")\n"
   ]
  },
  {
   "cell_type": "code",
   "execution_count": null,
   "id": "c0caff02-4462-4978-a477-ea9f30c46edd",
   "metadata": {},
   "outputs": [],
   "source": []
  }
 ],
 "metadata": {
  "kernelspec": {
   "display_name": "Python (mathocr)",
   "language": "python",
   "name": "mathocr"
  },
  "language_info": {
   "codemirror_mode": {
    "name": "ipython",
    "version": 3
   },
   "file_extension": ".py",
   "mimetype": "text/x-python",
   "name": "python",
   "nbconvert_exporter": "python",
   "pygments_lexer": "ipython3",
   "version": "3.13.5"
  }
 },
 "nbformat": 4,
 "nbformat_minor": 5
}
